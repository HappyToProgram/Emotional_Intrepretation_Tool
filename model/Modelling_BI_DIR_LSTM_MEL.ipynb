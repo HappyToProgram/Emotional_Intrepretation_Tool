{
 "cells": [
  {
   "cell_type": "markdown",
   "id": "fafe86bf",
   "metadata": {},
   "source": [
    "# Modelling BIDIRECTIONAL\n",
    "- This notebook uses the data obtained from Pre-Processing notebook"
   ]
  },
  {
   "cell_type": "code",
   "execution_count": 1,
   "id": "c2674903",
   "metadata": {},
   "outputs": [],
   "source": [
    "import numpy as np\n",
    "import tensorflow as tf\n",
    "from tensorflow import keras\n",
    "from tensorflow.keras import layers\n",
    "import librosa\n",
    "import multiprocessing as mp\n",
    "import re\n",
    "import pickle\n",
    "import time\n",
    "import random"
   ]
  },
  {
   "cell_type": "code",
   "execution_count": 2,
   "id": "52ceb613",
   "metadata": {},
   "outputs": [],
   "source": [
    "# Random Seed for Reproducibility\n",
    "tf.keras.utils.set_random_seed(442)"
   ]
  },
  {
   "cell_type": "code",
   "execution_count": 3,
   "id": "57c25fc4",
   "metadata": {},
   "outputs": [
    {
     "name": "stdout",
     "output_type": "stream",
     "text": [
      "Num GPUs Available:  1\n"
     ]
    },
    {
     "name": "stderr",
     "output_type": "stream",
     "text": [
      "2022-05-30 09:22:36.455734: I tensorflow/stream_executor/cuda/cuda_gpu_executor.cc:936] successful NUMA node read from SysFS had negative value (-1), but there must be at least one NUMA node, so returning NUMA node zero\n",
      "2022-05-30 09:22:36.463286: I tensorflow/stream_executor/cuda/cuda_gpu_executor.cc:936] successful NUMA node read from SysFS had negative value (-1), but there must be at least one NUMA node, so returning NUMA node zero\n",
      "2022-05-30 09:22:36.463436: I tensorflow/stream_executor/cuda/cuda_gpu_executor.cc:936] successful NUMA node read from SysFS had negative value (-1), but there must be at least one NUMA node, so returning NUMA node zero\n"
     ]
    }
   ],
   "source": [
    "# GPU Usage\n",
    "print(\"Num GPUs Available: \", len(tf.config.list_physical_devices('GPU')))\n",
    "# Set memory growth\n",
    "tf.config.experimental.set_memory_growth(tf.config.list_physical_devices('GPU')[0], True)"
   ]
  },
  {
   "cell_type": "code",
   "execution_count": 4,
   "id": "44e0892e",
   "metadata": {},
   "outputs": [],
   "source": [
    "labeldict = {\n",
    "    'Sadness': 0,\n",
    "    'Excited': 1,\n",
    "    'Happiness': 2,\n",
    "    'Anger' : 3,\n",
    "    'Frustration' : 4,\n",
    "    'Other' : 5\n",
    "}"
   ]
  },
  {
   "cell_type": "code",
   "execution_count": 5,
   "id": "ccf9f9a4",
   "metadata": {},
   "outputs": [],
   "source": [
    "def one_hot_encode(label):\n",
    "    one_hot = np.zeros(6)\n",
    "    one_hot[labeldict[label]] = 1\n",
    "    return one_hot"
   ]
  },
  {
   "cell_type": "code",
   "execution_count": 6,
   "id": "2d30a007",
   "metadata": {},
   "outputs": [],
   "source": [
    "def one_hot_encode_list(listOfLabels):\n",
    "    finalList = []\n",
    "    for label in listOfLabels:\n",
    "        finalList.append(one_hot_encode(label))\n",
    "    return np.array(finalList)"
   ]
  },
  {
   "cell_type": "code",
   "execution_count": 7,
   "id": "904a4ebc",
   "metadata": {},
   "outputs": [],
   "source": [
    "def get_mel_and_label(path):\n",
    "    emotion = re.match('.*/DATA/([a-zA-Z]+)/.*', path).groups()[0]\n",
    "    data, _ = librosa.load(path, sr=44100)\n",
    "    mels = librosa.feature.melspectrogram(y=data, sr=44100, n_mels=256)\n",
    "    return mels, emotion"
   ]
  },
  {
   "cell_type": "code",
   "execution_count": 8,
   "id": "822e9899",
   "metadata": {},
   "outputs": [],
   "source": [
    "def preprocess_input(pathList): # Returns a list of x (batch_size, timesteps, feature), y (one_hot_encoded)\n",
    "    with mp.Pool() as p:\n",
    "        results = p.map(get_mel_and_label, pathList)\n",
    "    # Preprocess x:\n",
    "    x = [item[0] for item in results]\n",
    "    # Flatten\n",
    "    x = [item for sublist in x for item in sublist]\n",
    "    # Zero-padding:\n",
    "    x = keras.preprocessing.sequence.pad_sequences(x, padding=\"post\", maxlen=1497, dtype = np.float16) # maxlen is after discovering the whole training data\n",
    "    # Reshaping so that the order is not messed up\n",
    "    x = x.reshape(-1, 256, 1497)\n",
    "    # Transposing so that we have timesteps in dim 1\n",
    "    x = x.transpose((0, 2, 1))\n",
    "    # Convert to tensor and of type tf.float16 for faster operation\n",
    "    x = tf.convert_to_tensor(x, dtype=tf.float16)\n",
    "    # Preprocess y:\n",
    "    y = [item[1] for item in results]\n",
    "    # one_hot_encode\n",
    "    y = one_hot_encode_list(y)\n",
    "    return x, y"
   ]
  },
  {
   "cell_type": "markdown",
   "id": "2a8a5000",
   "metadata": {},
   "source": [
    "# Loading data: \n",
    "- We will load the data per predefined batch size, this is to reduce the memory used for training:"
   ]
  },
  {
   "cell_type": "code",
   "execution_count": 9,
   "id": "e5fbf7a6",
   "metadata": {},
   "outputs": [],
   "source": [
    "with open('train_paths.pkl', 'rb') as f:\n",
    "    train_paths = pickle.load(f)\n",
    "with open('test_paths.pkl', 'rb') as f:\n",
    "    test_paths = pickle.load(f)"
   ]
  },
  {
   "cell_type": "code",
   "execution_count": 10,
   "id": "841dfc32",
   "metadata": {},
   "outputs": [],
   "source": [
    "# Make batches of the pathList:\n",
    "def create_batches(pathList, batch_size):\n",
    "    ansList = [] # To store the final batched paths\n",
    "    tempList = [] # Temporary list\n",
    "    count = 0\n",
    "    while count < len(pathList):\n",
    "        tempList.append(pathList[count]) # Append the path\n",
    "        count += 1\n",
    "        if (count % batch_size) == 0: # if count is a multiple of batch_size\n",
    "            ansList.append(tempList)\n",
    "            tempList = []\n",
    "    if len(tempList) != 0: # If tempList is not empty\n",
    "        ansList.append(tempList) # Append the remaining values\n",
    "    return ansList"
   ]
  },
  {
   "cell_type": "markdown",
   "id": "28921b58",
   "metadata": {},
   "source": [
    "# Modelling:"
   ]
  },
  {
   "cell_type": "code",
   "execution_count": 11,
   "id": "920ba4a2",
   "metadata": {},
   "outputs": [
    {
     "name": "stdout",
     "output_type": "stream",
     "text": [
      "WARNING:tensorflow:Layer lstm will not use cuDNN kernels since it doesn't meet the criteria. It will use a generic GPU kernel as fallback when running on GPU.\n",
      "WARNING:tensorflow:Layer lstm will not use cuDNN kernels since it doesn't meet the criteria. It will use a generic GPU kernel as fallback when running on GPU.\n",
      "WARNING:tensorflow:Layer lstm will not use cuDNN kernels since it doesn't meet the criteria. It will use a generic GPU kernel as fallback when running on GPU.\n",
      "WARNING:tensorflow:Layer lstm_1 will not use cuDNN kernels since it doesn't meet the criteria. It will use a generic GPU kernel as fallback when running on GPU.\n",
      "WARNING:tensorflow:Layer lstm_1 will not use cuDNN kernels since it doesn't meet the criteria. It will use a generic GPU kernel as fallback when running on GPU.\n",
      "WARNING:tensorflow:Layer lstm_1 will not use cuDNN kernels since it doesn't meet the criteria. It will use a generic GPU kernel as fallback when running on GPU.\n"
     ]
    },
    {
     "name": "stderr",
     "output_type": "stream",
     "text": [
      "2022-05-30 09:22:38.146658: I tensorflow/core/platform/cpu_feature_guard.cc:151] This TensorFlow binary is optimized with oneAPI Deep Neural Network Library (oneDNN) to use the following CPU instructions in performance-critical operations:  SSE4.1 SSE4.2 AVX AVX2 FMA\n",
      "To enable them in other operations, rebuild TensorFlow with the appropriate compiler flags.\n",
      "2022-05-30 09:22:38.147357: I tensorflow/stream_executor/cuda/cuda_gpu_executor.cc:936] successful NUMA node read from SysFS had negative value (-1), but there must be at least one NUMA node, so returning NUMA node zero\n",
      "2022-05-30 09:22:38.147526: I tensorflow/stream_executor/cuda/cuda_gpu_executor.cc:936] successful NUMA node read from SysFS had negative value (-1), but there must be at least one NUMA node, so returning NUMA node zero\n",
      "2022-05-30 09:22:38.147627: I tensorflow/stream_executor/cuda/cuda_gpu_executor.cc:936] successful NUMA node read from SysFS had negative value (-1), but there must be at least one NUMA node, so returning NUMA node zero\n",
      "2022-05-30 09:22:38.454612: I tensorflow/stream_executor/cuda/cuda_gpu_executor.cc:936] successful NUMA node read from SysFS had negative value (-1), but there must be at least one NUMA node, so returning NUMA node zero\n",
      "2022-05-30 09:22:38.454737: I tensorflow/stream_executor/cuda/cuda_gpu_executor.cc:936] successful NUMA node read from SysFS had negative value (-1), but there must be at least one NUMA node, so returning NUMA node zero\n",
      "2022-05-30 09:22:38.454803: I tensorflow/stream_executor/cuda/cuda_gpu_executor.cc:936] successful NUMA node read from SysFS had negative value (-1), but there must be at least one NUMA node, so returning NUMA node zero\n",
      "2022-05-30 09:22:38.454866: I tensorflow/core/common_runtime/gpu/gpu_device.cc:1525] Created device /job:localhost/replica:0/task:0/device:GPU:0 with 6108 MB memory:  -> device: 0, name: NVIDIA GeForce RTX 3070 Ti Laptop GPU, pci bus id: 0000:01:00.0, compute capability: 8.6\n"
     ]
    }
   ],
   "source": [
    "# Keras API:\n",
    "inp = layers.Input(shape=(1497, 256)) # Let's make to fixed so that we could use CNN more efficiently\n",
    "# LSTM:\n",
    "x_LSTM = layers.Masking(mask_value=0.0)(inp)\n",
    "x = layers.Bidirectional(layers.LSTM(128, return_sequences=True, dropout=0.3, recurrent_dropout=0.3))(x_LSTM)\n",
    "x = layers.Bidirectional(layers.LSTM(128, dropout=0.3, recurrent_dropout=0.3))(x)\n",
    "\n",
    "\n",
    "x = layers.Dense(128, activation='relu')(x)\n",
    "x = layers.Dropout(0.4)(x)\n",
    "x = layers.Dense(64, activation='relu')(x)\n",
    "x = layers.Dropout(0.4)(x)\n",
    "x = layers.Dense(6, activation='softmax')(x)\n",
    "\n",
    "model = keras.Model(inp, x)"
   ]
  },
  {
   "cell_type": "code",
   "execution_count": 12,
   "id": "3908fe4e",
   "metadata": {},
   "outputs": [
    {
     "name": "stdout",
     "output_type": "stream",
     "text": [
      "Model: \"model\"\n",
      "_________________________________________________________________\n",
      " Layer (type)                Output Shape              Param #   \n",
      "=================================================================\n",
      " input_1 (InputLayer)        [(None, 1497, 256)]       0         \n",
      "                                                                 \n",
      " masking (Masking)           (None, 1497, 256)         0         \n",
      "                                                                 \n",
      " bidirectional (Bidirectiona  (None, 1497, 256)        394240    \n",
      " l)                                                              \n",
      "                                                                 \n",
      " bidirectional_1 (Bidirectio  (None, 256)              394240    \n",
      " nal)                                                            \n",
      "                                                                 \n",
      " dense (Dense)               (None, 128)               32896     \n",
      "                                                                 \n",
      " dropout (Dropout)           (None, 128)               0         \n",
      "                                                                 \n",
      " dense_1 (Dense)             (None, 64)                8256      \n",
      "                                                                 \n",
      " dropout_1 (Dropout)         (None, 64)                0         \n",
      "                                                                 \n",
      " dense_2 (Dense)             (None, 6)                 390       \n",
      "                                                                 \n",
      "=================================================================\n",
      "Total params: 830,022\n",
      "Trainable params: 830,022\n",
      "Non-trainable params: 0\n",
      "_________________________________________________________________\n"
     ]
    }
   ],
   "source": [
    "model.summary()"
   ]
  },
  {
   "cell_type": "markdown",
   "id": "e2b122fa",
   "metadata": {},
   "source": [
    "# Training the model"
   ]
  },
  {
   "cell_type": "code",
   "execution_count": 13,
   "id": "28347024",
   "metadata": {},
   "outputs": [],
   "source": [
    "# Batch_size is 32, epochs = 30\n",
    "batch_size = 32\n",
    "epochs = 10"
   ]
  },
  {
   "cell_type": "code",
   "execution_count": 14,
   "id": "87f92c5f",
   "metadata": {},
   "outputs": [],
   "source": [
    "# Optimizer is Stochastic Gradient Descent\n",
    "# Loss function is Categorical Crossentropy\n",
    "optimizer = keras.optimizers.Adam() #amsgrad=True\n",
    "loss_fn = keras.losses.CategoricalCrossentropy()"
   ]
  },
  {
   "cell_type": "code",
   "execution_count": 15,
   "id": "cc25bc24",
   "metadata": {},
   "outputs": [],
   "source": [
    "training_batch = create_batches(train_paths, batch_size=batch_size)\n",
    "validation_batch = create_batches(test_paths, batch_size=batch_size)"
   ]
  },
  {
   "cell_type": "code",
   "execution_count": 16,
   "id": "3369e124",
   "metadata": {},
   "outputs": [],
   "source": [
    "# Metrics:\n",
    "train_metrics = tf.keras.metrics.CategoricalAccuracy()\n",
    "validation_metrics = tf.keras.metrics.CategoricalAccuracy()\n",
    "train_loss = tf.keras.metrics.CategoricalCrossentropy()\n",
    "validation_loss = tf.keras.metrics.CategoricalCrossentropy()"
   ]
  },
  {
   "cell_type": "code",
   "execution_count": 17,
   "id": "538ba3a9",
   "metadata": {},
   "outputs": [],
   "source": [
    "# A list to store epoch results:\n",
    "epoch_accuracy_train = []\n",
    "epoch_accuracy_val = []\n",
    "epoch_loss_train = []\n",
    "epoch_loss_val = []"
   ]
  },
  {
   "cell_type": "code",
   "execution_count": 18,
   "id": "9f3c97fc",
   "metadata": {},
   "outputs": [],
   "source": [
    "# To speed up, use graph execution\n",
    "@tf.function\n",
    "def train_step(x, y):\n",
    "    with tf.GradientTape() as tape:\n",
    "        y_pred = model(x, training = True)\n",
    "        loss = loss_fn(y, y_pred)\n",
    "    grads = tape.gradient(loss, model.trainable_weights)\n",
    "    optimizer.apply_gradients(zip(grads, model.trainable_weights))\n",
    "    # Update training accuracy\n",
    "    train_metrics.update_state(y, y_pred)\n",
    "    # Update training loss:\n",
    "    train_loss.update_state(y, y_pred)\n",
    "    return loss"
   ]
  },
  {
   "cell_type": "code",
   "execution_count": 19,
   "id": "0a850e7d",
   "metadata": {},
   "outputs": [],
   "source": [
    "@tf.function\n",
    "def valid_step(x, y):\n",
    "    y_val_pred = model(x, training=False)\n",
    "    # Update metrics for validation\n",
    "    validation_metrics.update_state(y, y_val_pred)\n",
    "    validation_loss.update_state(y, y_val_pred)\n",
    "    return"
   ]
  },
  {
   "cell_type": "code",
   "execution_count": 20,
   "id": "1971ed86",
   "metadata": {
    "scrolled": true
   },
   "outputs": [
    {
     "name": "stdout",
     "output_type": "stream",
     "text": [
      "\n",
      "Start of epoch 0\n"
     ]
    },
    {
     "name": "stderr",
     "output_type": "stream",
     "text": [
      "2022-05-30 09:23:09.082392: I tensorflow/stream_executor/cuda/cuda_blas.cc:1786] TensorFloat-32 will be used for the matrix multiplication. This will only be logged once.\n"
     ]
    },
    {
     "name": "stdout",
     "output_type": "stream",
     "text": [
      "Training loss (for one batch) at step 10: 1.8447\n",
      "Seen so far: 352 samples\n",
      "Training loss (for one batch) at step 20: 1.7773\n",
      "Seen so far: 672 samples\n",
      "Training loss (for one batch) at step 30: 1.7794\n",
      "Seen so far: 992 samples\n",
      "Training loss (for one batch) at step 40: 1.8115\n",
      "Seen so far: 1312 samples\n",
      "Training loss (for one batch) at step 50: 1.7058\n",
      "Seen so far: 1632 samples\n",
      "Training loss (for one batch) at step 60: 1.6689\n",
      "Seen so far: 1952 samples\n",
      "Training loss (for one batch) at step 70: 1.6915\n",
      "Seen so far: 2272 samples\n",
      "Training loss (for one batch) at step 80: 1.8661\n",
      "Seen so far: 2592 samples\n",
      "Training loss (for one batch) at step 90: 1.7245\n",
      "Seen so far: 2912 samples\n",
      "Training loss (for one batch) at step 100: 1.8284\n",
      "Seen so far: 3232 samples\n",
      "Training loss (for one batch) at step 110: 1.8030\n",
      "Seen so far: 3552 samples\n",
      "Training loss (for one batch) at step 120: 1.8616\n",
      "Seen so far: 3872 samples\n",
      "Training loss (for one batch) at step 130: 1.6382\n",
      "Seen so far: 4192 samples\n",
      "Training loss (for one batch) at step 140: 1.8395\n",
      "Seen so far: 4512 samples\n",
      "Training acc over epoch: 0.2067\n",
      "Training loss over epoch: 1.7602\n",
      "Validation acc: 0.2542\n",
      "Validation loss: 1.6984\n",
      "Time taken: 1210.63s\n",
      "\n",
      "Start of epoch 1\n",
      "Training loss (for one batch) at step 10: 1.7955\n",
      "Seen so far: 352 samples\n",
      "Training loss (for one batch) at step 20: 1.5908\n",
      "Seen so far: 672 samples\n",
      "Training loss (for one batch) at step 30: 1.7183\n",
      "Seen so far: 992 samples\n",
      "Training loss (for one batch) at step 40: 1.7386\n",
      "Seen so far: 1312 samples\n",
      "Training loss (for one batch) at step 50: 1.7744\n",
      "Seen so far: 1632 samples\n",
      "Training loss (for one batch) at step 60: 1.8384\n",
      "Seen so far: 1952 samples\n",
      "Training loss (for one batch) at step 70: 1.6473\n",
      "Seen so far: 2272 samples\n",
      "Training loss (for one batch) at step 80: 1.6914\n",
      "Seen so far: 2592 samples\n",
      "Training loss (for one batch) at step 90: 1.7101\n",
      "Seen so far: 2912 samples\n",
      "Training loss (for one batch) at step 100: 1.7940\n",
      "Seen so far: 3232 samples\n",
      "Training loss (for one batch) at step 110: 1.7374\n",
      "Seen so far: 3552 samples\n",
      "Training loss (for one batch) at step 120: 1.6921\n",
      "Seen so far: 3872 samples\n",
      "Training loss (for one batch) at step 130: 1.6358\n",
      "Seen so far: 4192 samples\n",
      "Training loss (for one batch) at step 140: 1.8955\n",
      "Seen so far: 4512 samples\n",
      "Training acc over epoch: 0.2346\n",
      "Training loss over epoch: 1.7298\n",
      "Validation acc: 0.2167\n",
      "Validation loss: 1.7393\n",
      "Time taken: 1171.63s\n",
      "\n",
      "Start of epoch 2\n",
      "Training loss (for one batch) at step 10: 2.0553\n",
      "Seen so far: 352 samples\n",
      "Training loss (for one batch) at step 20: 1.8216\n",
      "Seen so far: 672 samples\n",
      "Training loss (for one batch) at step 30: 1.6696\n",
      "Seen so far: 992 samples\n",
      "Training loss (for one batch) at step 40: 1.6558\n",
      "Seen so far: 1312 samples\n",
      "Training loss (for one batch) at step 50: 1.7853\n",
      "Seen so far: 1632 samples\n",
      "Training loss (for one batch) at step 60: 1.7498\n",
      "Seen so far: 1952 samples\n",
      "Training loss (for one batch) at step 70: 1.7572\n",
      "Seen so far: 2272 samples\n",
      "Training loss (for one batch) at step 80: 1.6992\n",
      "Seen so far: 2592 samples\n",
      "Training loss (for one batch) at step 90: 1.7321\n",
      "Seen so far: 2912 samples\n",
      "Training loss (for one batch) at step 100: 1.7813\n",
      "Seen so far: 3232 samples\n",
      "Training loss (for one batch) at step 110: 1.7258\n",
      "Seen so far: 3552 samples\n",
      "Training loss (for one batch) at step 120: 1.6707\n",
      "Seen so far: 3872 samples\n",
      "Training loss (for one batch) at step 130: 1.7669\n",
      "Seen so far: 4192 samples\n",
      "Training loss (for one batch) at step 140: 1.7066\n",
      "Seen so far: 4512 samples\n",
      "Training acc over epoch: 0.2327\n",
      "Training loss over epoch: 1.7396\n",
      "Validation acc: 0.2417\n",
      "Validation loss: 1.7750\n",
      "Time taken: 1182.44s\n",
      "\n",
      "Start of epoch 3\n",
      "Training loss (for one batch) at step 10: 1.7060\n",
      "Seen so far: 352 samples\n",
      "Training loss (for one batch) at step 20: 1.7297\n",
      "Seen so far: 672 samples\n",
      "Training loss (for one batch) at step 30: 1.8366\n",
      "Seen so far: 992 samples\n",
      "Training loss (for one batch) at step 40: 1.7049\n",
      "Seen so far: 1312 samples\n",
      "Training loss (for one batch) at step 50: 1.7999\n",
      "Seen so far: 1632 samples\n",
      "Training loss (for one batch) at step 60: 1.7540\n",
      "Seen so far: 1952 samples\n",
      "Training loss (for one batch) at step 70: 1.7520\n",
      "Seen so far: 2272 samples\n",
      "Training loss (for one batch) at step 80: 1.6226\n",
      "Seen so far: 2592 samples\n",
      "Training loss (for one batch) at step 90: 1.7303\n",
      "Seen so far: 2912 samples\n",
      "Training loss (for one batch) at step 100: 1.6789\n",
      "Seen so far: 3232 samples\n",
      "Training loss (for one batch) at step 110: 1.7885\n",
      "Seen so far: 3552 samples\n",
      "Training loss (for one batch) at step 120: 1.7751\n",
      "Seen so far: 3872 samples\n",
      "Training loss (for one batch) at step 130: 1.6101\n",
      "Seen so far: 4192 samples\n",
      "Training loss (for one batch) at step 140: 1.7843\n",
      "Seen so far: 4512 samples\n",
      "Training acc over epoch: 0.2385\n",
      "Training loss over epoch: 1.7309\n",
      "Validation acc: 0.2725\n",
      "Validation loss: 1.6743\n",
      "Time taken: 1200.61s\n",
      "\n",
      "Start of epoch 4\n",
      "Training loss (for one batch) at step 10: 1.7417\n",
      "Seen so far: 352 samples\n",
      "Training loss (for one batch) at step 20: 1.6470\n",
      "Seen so far: 672 samples\n",
      "Training loss (for one batch) at step 30: 1.6138\n",
      "Seen so far: 992 samples\n",
      "Training loss (for one batch) at step 40: 1.7115\n",
      "Seen so far: 1312 samples\n",
      "Training loss (for one batch) at step 50: 1.7252\n",
      "Seen so far: 1632 samples\n",
      "Training loss (for one batch) at step 60: 1.7732\n",
      "Seen so far: 1952 samples\n",
      "Training loss (for one batch) at step 70: 1.6555\n",
      "Seen so far: 2272 samples\n",
      "Training loss (for one batch) at step 80: 1.8325\n",
      "Seen so far: 2592 samples\n",
      "Training loss (for one batch) at step 90: 1.6161\n",
      "Seen so far: 2912 samples\n",
      "Training loss (for one batch) at step 100: 1.7254\n",
      "Seen so far: 3232 samples\n",
      "Training loss (for one batch) at step 110: 1.7092\n",
      "Seen so far: 3552 samples\n",
      "Training loss (for one batch) at step 120: 1.7287\n",
      "Seen so far: 3872 samples\n",
      "Training loss (for one batch) at step 130: 1.6727\n",
      "Seen so far: 4192 samples\n",
      "Training loss (for one batch) at step 140: 1.5870\n",
      "Seen so far: 4512 samples\n",
      "Training acc over epoch: 0.2567\n",
      "Training loss over epoch: 1.6784\n",
      "Validation acc: 0.2825\n",
      "Validation loss: 1.6727\n",
      "Time taken: 1145.97s\n",
      "\n",
      "Start of epoch 5\n",
      "Training loss (for one batch) at step 10: 1.5982\n",
      "Seen so far: 352 samples\n",
      "Training loss (for one batch) at step 20: 1.6033\n",
      "Seen so far: 672 samples\n",
      "Training loss (for one batch) at step 30: 1.5452\n",
      "Seen so far: 992 samples\n",
      "Training loss (for one batch) at step 40: 1.6047\n",
      "Seen so far: 1312 samples\n",
      "Training loss (for one batch) at step 50: 1.6276\n",
      "Seen so far: 1632 samples\n",
      "Training loss (for one batch) at step 60: 1.6669\n",
      "Seen so far: 1952 samples\n",
      "Training loss (for one batch) at step 70: 1.7999\n",
      "Seen so far: 2272 samples\n",
      "Training loss (for one batch) at step 80: 1.7765\n",
      "Seen so far: 2592 samples\n",
      "Training loss (for one batch) at step 90: 1.5952\n",
      "Seen so far: 2912 samples\n",
      "Training loss (for one batch) at step 100: 1.6303\n",
      "Seen so far: 3232 samples\n",
      "Training loss (for one batch) at step 110: 1.6888\n",
      "Seen so far: 3552 samples\n",
      "Training loss (for one batch) at step 120: 1.7297\n",
      "Seen so far: 3872 samples\n",
      "Training loss (for one batch) at step 130: 1.6945\n",
      "Seen so far: 4192 samples\n",
      "Training loss (for one batch) at step 140: 1.6625\n",
      "Seen so far: 4512 samples\n",
      "Training acc over epoch: 0.2798\n",
      "Training loss over epoch: 1.6763\n",
      "Validation acc: 0.2758\n",
      "Validation loss: 1.6642\n",
      "Time taken: 1117.01s\n",
      "\n",
      "Start of epoch 6\n",
      "Training loss (for one batch) at step 10: 1.6762\n",
      "Seen so far: 352 samples\n",
      "Training loss (for one batch) at step 20: 1.7065\n",
      "Seen so far: 672 samples\n",
      "Training loss (for one batch) at step 30: 1.6535\n",
      "Seen so far: 992 samples\n",
      "Training loss (for one batch) at step 40: 1.6760\n",
      "Seen so far: 1312 samples\n",
      "Training loss (for one batch) at step 50: 1.7181\n",
      "Seen so far: 1632 samples\n",
      "Training loss (for one batch) at step 60: 1.6255\n",
      "Seen so far: 1952 samples\n",
      "Training loss (for one batch) at step 70: 1.7065\n",
      "Seen so far: 2272 samples\n",
      "Training loss (for one batch) at step 80: 1.7262\n",
      "Seen so far: 2592 samples\n",
      "Training loss (for one batch) at step 90: 1.7520\n",
      "Seen so far: 2912 samples\n",
      "Training loss (for one batch) at step 100: 1.6181\n",
      "Seen so far: 3232 samples\n",
      "Training loss (for one batch) at step 110: 1.6118\n",
      "Seen so far: 3552 samples\n",
      "Training loss (for one batch) at step 120: 1.6829\n",
      "Seen so far: 3872 samples\n",
      "Training loss (for one batch) at step 130: 1.6404\n",
      "Seen so far: 4192 samples\n"
     ]
    },
    {
     "name": "stdout",
     "output_type": "stream",
     "text": [
      "Training loss (for one batch) at step 140: 1.6914\n",
      "Seen so far: 4512 samples\n",
      "Training acc over epoch: 0.2788\n",
      "Training loss over epoch: 1.6750\n",
      "Validation acc: 0.3000\n",
      "Validation loss: 1.6766\n",
      "Time taken: 1192.69s\n",
      "\n",
      "Start of epoch 7\n",
      "Training loss (for one batch) at step 10: 1.6479\n",
      "Seen so far: 352 samples\n",
      "Training loss (for one batch) at step 20: 1.6165\n",
      "Seen so far: 672 samples\n",
      "Training loss (for one batch) at step 30: 1.8046\n",
      "Seen so far: 992 samples\n",
      "Training loss (for one batch) at step 40: 1.8073\n",
      "Seen so far: 1312 samples\n",
      "Training loss (for one batch) at step 50: 1.7251\n",
      "Seen so far: 1632 samples\n",
      "Training loss (for one batch) at step 60: 1.5799\n",
      "Seen so far: 1952 samples\n",
      "Training loss (for one batch) at step 70: 1.7265\n",
      "Seen so far: 2272 samples\n",
      "Training loss (for one batch) at step 80: 1.5802\n",
      "Seen so far: 2592 samples\n",
      "Training loss (for one batch) at step 90: 1.5731\n",
      "Seen so far: 2912 samples\n",
      "Training loss (for one batch) at step 100: 1.6574\n",
      "Seen so far: 3232 samples\n",
      "Training loss (for one batch) at step 110: 1.7410\n",
      "Seen so far: 3552 samples\n",
      "Training loss (for one batch) at step 120: 1.7024\n",
      "Seen so far: 3872 samples\n",
      "Training loss (for one batch) at step 130: 1.7586\n",
      "Seen so far: 4192 samples\n",
      "Training loss (for one batch) at step 140: 1.5583\n",
      "Seen so far: 4512 samples\n",
      "Training acc over epoch: 0.2779\n",
      "Training loss over epoch: 1.6565\n",
      "Validation acc: 0.3000\n",
      "Validation loss: 1.6465\n",
      "Time taken: 1186.81s\n",
      "\n",
      "Start of epoch 8\n",
      "Training loss (for one batch) at step 10: 1.6299\n",
      "Seen so far: 352 samples\n",
      "Training loss (for one batch) at step 20: 1.6515\n",
      "Seen so far: 672 samples\n",
      "Training loss (for one batch) at step 30: 1.6567\n",
      "Seen so far: 992 samples\n",
      "Training loss (for one batch) at step 40: 1.6719\n",
      "Seen so far: 1312 samples\n",
      "Training loss (for one batch) at step 50: 1.6854\n",
      "Seen so far: 1632 samples\n",
      "Training loss (for one batch) at step 60: 1.5250\n",
      "Seen so far: 1952 samples\n",
      "Training loss (for one batch) at step 70: 1.6768\n",
      "Seen so far: 2272 samples\n",
      "Training loss (for one batch) at step 80: 1.6319\n",
      "Seen so far: 2592 samples\n",
      "Training loss (for one batch) at step 90: 1.6756\n",
      "Seen so far: 2912 samples\n",
      "Training loss (for one batch) at step 100: 1.6102\n",
      "Seen so far: 3232 samples\n",
      "Training loss (for one batch) at step 110: 1.7187\n",
      "Seen so far: 3552 samples\n",
      "Training loss (for one batch) at step 120: 1.5325\n",
      "Seen so far: 3872 samples\n",
      "Training loss (for one batch) at step 130: 1.6789\n",
      "Seen so far: 4192 samples\n",
      "Training loss (for one batch) at step 140: 1.6932\n",
      "Seen so far: 4512 samples\n",
      "Training acc over epoch: 0.2846\n",
      "Training loss over epoch: 1.6553\n",
      "Validation acc: 0.3008\n",
      "Validation loss: 1.6517\n",
      "Time taken: 1166.14s\n",
      "\n",
      "Start of epoch 9\n",
      "Training loss (for one batch) at step 10: 1.6372\n",
      "Seen so far: 352 samples\n",
      "Training loss (for one batch) at step 20: 1.3840\n",
      "Seen so far: 672 samples\n",
      "Training loss (for one batch) at step 30: 1.5956\n",
      "Seen so far: 992 samples\n",
      "Training loss (for one batch) at step 40: 1.6526\n",
      "Seen so far: 1312 samples\n",
      "Training loss (for one batch) at step 50: 1.5892\n",
      "Seen so far: 1632 samples\n",
      "Training loss (for one batch) at step 60: 1.6457\n",
      "Seen so far: 1952 samples\n",
      "Training loss (for one batch) at step 70: 1.6517\n",
      "Seen so far: 2272 samples\n",
      "Training loss (for one batch) at step 80: 1.6839\n",
      "Seen so far: 2592 samples\n",
      "Training loss (for one batch) at step 90: 1.7149\n",
      "Seen so far: 2912 samples\n",
      "Training loss (for one batch) at step 100: 1.7175\n",
      "Seen so far: 3232 samples\n",
      "Training loss (for one batch) at step 110: 1.7716\n",
      "Seen so far: 3552 samples\n",
      "Training loss (for one batch) at step 120: 1.6347\n",
      "Seen so far: 3872 samples\n",
      "Training loss (for one batch) at step 130: 1.5054\n",
      "Seen so far: 4192 samples\n",
      "Training loss (for one batch) at step 140: 1.4914\n",
      "Seen so far: 4512 samples\n",
      "Training acc over epoch: 0.2981\n",
      "Training loss over epoch: 1.6432\n",
      "Validation acc: 0.2850\n",
      "Validation loss: 1.6378\n",
      "Time taken: 1147.34s\n"
     ]
    }
   ],
   "source": [
    "# Custom Training loop:\n",
    "for epoch in range(epochs):\n",
    "    start_time = time.time()\n",
    "    print(\"\\nStart of epoch %d\" % (epoch))\n",
    "    # Shuffle the training batch for each epoch:\n",
    "    random.shuffle(training_batch)\n",
    "    for step, batch in enumerate(training_batch):\n",
    "        x, y = preprocess_input(batch)\n",
    "        \n",
    "        loss = train_step(x, y)\n",
    "        \n",
    "        # Log every 200 batches.\n",
    "        if step % 10 == 0 and step != 0:\n",
    "            print(\n",
    "                \"Training loss (for one batch) at step %d: %.4f\"\n",
    "                % (step, float(loss))\n",
    "            )\n",
    "            print(\"Seen so far: %d samples\" % ((step + 1) * batch_size))\n",
    "    \n",
    "    # Display metrics at the end of each epoch.\n",
    "    train_acc = train_metrics.result()\n",
    "    print(\"Training acc over epoch: %.4f\" % (float(train_acc)))\n",
    "    loss_train = train_loss.result()\n",
    "    print(\"Training loss over epoch: %.4f\" % (float(loss_train)))\n",
    "    \n",
    "    # Reset training metrics at the end of each epoch\n",
    "    train_metrics.reset_states()\n",
    "    train_loss.reset_states()\n",
    "    \n",
    "    # For validation data:\n",
    "    for val_batch in validation_batch:\n",
    "        x_val, y_val = preprocess_input(val_batch)\n",
    "        \n",
    "        valid_step(x_val, y_val)\n",
    "        \n",
    "\n",
    "    # Metrics\n",
    "    val_acc = validation_metrics.result()\n",
    "    loss_val = validation_loss.result()\n",
    "    validation_metrics.reset_states()\n",
    "    validation_loss.reset_states()\n",
    "    \n",
    "    # Append to a list for graph:\n",
    "    epoch_accuracy_train.append(train_acc)\n",
    "    epoch_accuracy_val.append(val_acc)\n",
    "    epoch_loss_train.append(loss_train)\n",
    "    epoch_loss_val.append(loss_val)\n",
    "    \n",
    "    print(\"Validation acc: %.4f\" % (float(val_acc)))\n",
    "    print(\"Validation loss: %.4f\" % (float(loss_val)))\n",
    "    print(\"Time taken: %.2fs\" % (time.time() - start_time))\n"
   ]
  },
  {
   "cell_type": "code",
   "execution_count": 21,
   "id": "930217b3",
   "metadata": {},
   "outputs": [
    {
     "name": "stdout",
     "output_type": "stream",
     "text": [
      "WARNING:tensorflow:Compiled the loaded model, but the compiled metrics have yet to be built. `model.compile_metrics` will be empty until you train or evaluate the model.\n"
     ]
    }
   ],
   "source": [
    "model.save(\"MEL_BI.h5\")"
   ]
  },
  {
   "cell_type": "markdown",
   "id": "45bd8c0e",
   "metadata": {},
   "source": [
    "# Plotting:"
   ]
  },
  {
   "cell_type": "code",
   "execution_count": 22,
   "id": "ace2e8a9",
   "metadata": {},
   "outputs": [],
   "source": [
    "import matplotlib.pyplot as plt"
   ]
  },
  {
   "cell_type": "code",
   "execution_count": 23,
   "id": "1f9f7e5b",
   "metadata": {},
   "outputs": [],
   "source": [
    "axis_x = [i+1 for i in range(epochs)]"
   ]
  },
  {
   "cell_type": "code",
   "execution_count": 24,
   "id": "87577487",
   "metadata": {},
   "outputs": [
    {
     "data": {
      "image/png": "[encoded data removed]",
      "text/plain": [
       "<Figure size 720x432 with 1 Axes>"
      ]
     },
     "metadata": {
      "needs_background": "light"
     },
     "output_type": "display_data"
    }
   ],
   "source": [
    "fig, ax = plt.subplots(figsize=(10,6))\n",
    "ax.scatter(x = axis_x, y = epoch_accuracy_train, label = \"train\")\n",
    "ax.scatter(x = axis_x, y = epoch_accuracy_val, label=\"validation\")\n",
    "ax.legend()\n",
    "ax.grid()\n",
    "ax.set_title(\"Accuracy per epoch\")\n",
    "ax.set_xticks(ticks = axis_x)\n",
    "plt.show()"
   ]
  },
  {
   "cell_type": "code",
   "execution_count": 25,
   "id": "aeca8d15",
   "metadata": {},
   "outputs": [
    {
     "data": {
      "image/png": "[encoded data removed]",
      "text/plain": [
       "<Figure size 720x432 with 1 Axes>"
      ]
     },
     "metadata": {
      "needs_background": "light"
     },
     "output_type": "display_data"
    }
   ],
   "source": [
    "fig, ax = plt.subplots(figsize=(10, 6))\n",
    "ax.scatter(x = axis_x, y = epoch_loss_train, label=\"train\")\n",
    "ax.scatter(x = axis_x, y = epoch_loss_val, label=\"validation\")\n",
    "ax.legend()\n",
    "ax.grid()\n",
    "ax.set_title(\"Loss per epoch\")\n",
    "ax.set_xticks(ticks = axis_x)\n",
    "plt.show()"
   ]
  },
  {
   "cell_type": "code",
   "execution_count": null,
   "id": "333c65a3",
   "metadata": {},
   "outputs": [],
   "source": []
  }
 ],
 "metadata": {
  "kernelspec": {
   "display_name": "Python 3 (ipykernel)",
   "language": "python",
   "name": "python3"
  },
  "language_info": {
   "codemirror_mode": {
    "name": "ipython",
    "version": 3
   },
   "file_extension": ".py",
   "mimetype": "text/x-python",
   "name": "python",
   "nbconvert_exporter": "python",
   "pygments_lexer": "ipython3",
   "version": "3.9.12"
  }
 },
 "nbformat": 4,
 "nbformat_minor": 5
}
