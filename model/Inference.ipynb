{
 "cells": [
  {
   "cell_type": "code",
   "execution_count": 11,
   "id": "2d812103",
   "metadata": {},
   "outputs": [],
   "source": [
    "import numpy as np\n",
    "import tensorflow as tf\n",
    "from tensorflow import keras\n",
    "import librosa"
   ]
  },
  {
   "cell_type": "code",
   "execution_count": 12,
   "id": "2d193b90",
   "metadata": {},
   "outputs": [],
   "source": [
    "# LABELDICT:\n",
    "labeldict={0: 'Sadness',\n",
    " 1: 'Excited',\n",
    " 2: 'Happiness',\n",
    " 3: 'Anger',\n",
    " 4: 'Frustration',\n",
    " 5: 'Other'}"
   ]
  },
  {
   "cell_type": "code",
   "execution_count": 13,
   "id": "29c59e56",
   "metadata": {},
   "outputs": [],
   "source": [
    "# Decode the one hot encoded:\n",
    "def decode_emotion(one_hot):\n",
    "    idx_arg_max = np.argmax(one_hot)\n",
    "    return labeldict[idx_arg_max]"
   ]
  },
  {
   "cell_type": "code",
   "execution_count": 14,
   "id": "7a5fb05a",
   "metadata": {},
   "outputs": [],
   "source": [
    "def get_mel(path):\n",
    "    data, _ = librosa.load(path, sr=44100)\n",
    "    mels = librosa.feature.melspectrogram(y=data, sr=44100, n_mels=256)\n",
    "    return mels"
   ]
  },
  {
   "cell_type": "code",
   "execution_count": 28,
   "id": "571cac99",
   "metadata": {},
   "outputs": [],
   "source": [
    "def preprocess_input(path): # Returns a list of x (batch_size, timesteps, feature)\n",
    "    # Preprocess x:\n",
    "    x = get_mel(path)\n",
    "    # Reshaping so that the order is not messed up\n",
    "    x = x.reshape(1, 256, -1)\n",
    "    # Transposing so that we have timesteps in dim 1\n",
    "    x = x.transpose((0, 2, 1))\n",
    "    # Convert to tensor and of type tf.float16 for faster operation\n",
    "    x = tf.convert_to_tensor(x, dtype=tf.float16)\n",
    "    return x"
   ]
  },
  {
   "cell_type": "code",
   "execution_count": 29,
   "id": "dc59e566",
   "metadata": {},
   "outputs": [
    {
     "name": "stdout",
     "output_type": "stream",
     "text": [
      "WARNING:tensorflow:Layer lstm will not use cuDNN kernels since it doesn't meet the criteria. It will use a generic GPU kernel as fallback when running on GPU.\n",
      "WARNING:tensorflow:Layer lstm_1 will not use cuDNN kernels since it doesn't meet the criteria. It will use a generic GPU kernel as fallback when running on GPU.\n",
      "WARNING:tensorflow:No training configuration found in the save file, so the model was *not* compiled. Compile it manually.\n"
     ]
    }
   ],
   "source": [
    "# Load the model\n",
    "model = keras.models.load_model('./MEL_LSTM.h5')"
   ]
  },
  {
   "cell_type": "code",
   "execution_count": 35,
   "id": "0c6a915c",
   "metadata": {},
   "outputs": [],
   "source": [
    "def predict_emotion(path):\n",
    "    data = preprocess_input(path)\n",
    "    predicted = model(data, training=False)\n",
    "    result = decode_emotion(predicted)\n",
    "    print(f\"The emotion associated with the file is {result}\")\n",
    "    return result"
   ]
  },
  {
   "cell_type": "code",
   "execution_count": 36,
   "id": "80eb8ef2",
   "metadata": {},
   "outputs": [
    {
     "name": "stdout",
     "output_type": "stream",
     "text": [
      "The emotion associated with the file is Sadness\n"
     ]
    },
    {
     "data": {
      "text/plain": [
       "'Sadness'"
      ]
     },
     "execution_count": 36,
     "metadata": {},
     "output_type": "execute_result"
    }
   ],
   "source": [
    "predict_emotion('./DATA/Sadness/Ses01F_impro02_F005.wav')"
   ]
  },
  {
   "cell_type": "code",
   "execution_count": null,
   "id": "b956d0d7",
   "metadata": {},
   "outputs": [],
   "source": []
  }
 ],
 "metadata": {
  "kernelspec": {
   "display_name": "Python 3 (ipykernel)",
   "language": "python",
   "name": "python3"
  },
  "language_info": {
   "codemirror_mode": {
    "name": "ipython",
    "version": 3
   },
   "file_extension": ".py",
   "mimetype": "text/x-python",
   "name": "python",
   "nbconvert_exporter": "python",
   "pygments_lexer": "ipython3",
   "version": "3.9.12"
  }
 },
 "nbformat": 4,
 "nbformat_minor": 5
}
